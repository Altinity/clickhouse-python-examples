{
 "cells": [
  {
   "cell_type": "markdown",
   "metadata": {},
   "source": [
    "# Getting to know the ClickHouse-driver Client\n",
    "\n",
    "This notebook has samples that were included in the [Altinity blog article that introduces the clickhouse-driver client library](https://www.altinity.com/blog/clickhouse-and-python-getting-to-know-the-clickhouse-driver-client).\n",
    "\n",
    "_WARNING_: If you run the whole notebook it will hang.  You must run the samples one by one as one of them is designed to hang and must be cancelled manually. "
   ]
  },
  {
   "cell_type": "markdown",
   "metadata": {},
   "source": [
    "It's easy to load the clickhouse driver. The `Client` class is the main client interface. "
   ]
  },
  {
   "cell_type": "code",
   "execution_count": null,
   "metadata": {},
   "outputs": [],
   "source": [
    "from clickhouse_driver import Client"
   ]
  },
  {
   "cell_type": "markdown",
   "metadata": {},
   "source": [
    "If you are running against an unencrypted local server setting up a connection is as simple as the following. Instantiating a client does not actually connect to ClickHouse.  It just sets up the data structure used to connect later on when your code does something. "
   ]
  },
  {
   "cell_type": "code",
   "execution_count": null,
   "metadata": {},
   "outputs": [],
   "source": [
    "client = Client('localhost')"
   ]
  },
  {
   "cell_type": "markdown",
   "metadata": {},
   "source": [
    "Servers with sensitive data should be encrypted with a user/password and encrypted communications.  The following command shows how to connect to a server with self-signed certificate using an explicit database name. "
   ]
  },
  {
   "cell_type": "code",
   "execution_count": null,
   "metadata": {},
   "outputs": [],
   "source": [
    "client = Client('localhost', \n",
    "                user='python', \n",
    "                password='secret', \n",
    "                secure=True, \n",
    "                verify=False, \n",
    "                database='default',\n",
    "                compression=True)"
   ]
  },
  {
   "cell_type": "markdown",
   "metadata": {},
   "source": [
    "The Python driver uses the Client.execute() method to issue select commands.  Results are returned as a list of tuples.  Let's send a very simple query and take apart the results to see values and types. \n",
    "\n",
    "*NOTE*: If you get an error about an unknown timezone, ensure your server has the timezone set properly.  "
   ]
  },
  {
   "cell_type": "code",
   "execution_count": null,
   "metadata": {
    "scrolled": false
   },
   "outputs": [],
   "source": [
    "result = client.execute('SELECT now(), version()')\n",
    "print(\"RESULT: {0}: {1}\".format(type(result), result))\n",
    "for t in result:\n",
    "    print(\" ROW: {0}: {1}\".format(type(t), t))\n",
    "    for v in t:\n",
    "        print(\"  COLUMN: {0}: {1}\".format(type(v), v))"
   ]
  },
  {
   "cell_type": "markdown",
   "metadata": {},
   "source": [
    "Create the iris table, dropping any previously existing table of the same name.  The print statements show that result sets from DDL are empty. "
   ]
  },
  {
   "cell_type": "code",
   "execution_count": null,
   "metadata": {},
   "outputs": [],
   "source": [
    "r1 = client.execute('DROP TABLE IF EXISTS iris')\n",
    "print(r1)\n",
    "r2 = client.execute('CREATE TABLE iris ('\n",
    "                    'sepal_length Float64, sepal_width Float64, '\n",
    "                    'petal_length Float64, petal_width Float64, '\n",
    "                    'species String) ENGINE = MergeTree '\n",
    "                    ' PARTITION BY species ORDER BY (species)')\n",
    "print(r2)"
   ]
  },
  {
   "cell_type": "markdown",
   "metadata": {},
   "source": [
    "Add some data to the table.  Note that the values are given in a separate array of tuples. "
   ]
  },
  {
   "cell_type": "code",
   "execution_count": null,
   "metadata": {},
   "outputs": [],
   "source": [
    "client.execute(\n",
    "    'INSERT INTO iris (sepal_length, sepal_width, petal_length, petal_width, species) VALUES',\n",
    "    [(5.1, 3.7, 1.5, 0.4, 'Iris-setosa'), (4.6, 3.6, 1.0, 0.2, 'Iris-setosa')]\n",
    ")\n",
    "print(client.execute(\"SELECT * FROM iris\"))"
   ]
  },
  {
   "cell_type": "markdown",
   "metadata": {},
   "source": [
    "Here is an example of how to insert CSV.  We read the values line by line using csv.DictReader() running inside the generator function row_reader().  This results in a tuple for each line.  Note that *you must* assign types or your values will not convert. The csv module converts everything to a string. "
   ]
  },
  {
   "cell_type": "code",
   "execution_count": null,
   "metadata": {
    "scrolled": true
   },
   "outputs": [],
   "source": [
    "client.execute(\"TRUNCATE TABLE iris\")\n",
    "\n",
    "import datetime\n",
    "import csv\n",
    "\n",
    "# Create a generator to fetch parsed rows. CSV must have variable names in header row.\n",
    "def row_reader():\n",
    "    with open('iris_with_names.csv') as iris_csv:\n",
    "        # Use DictReader to get values as a dictionary with column names.\n",
    "        for line in csv.DictReader(iris_csv):\n",
    "            yield {\n",
    "                'sepal_length': float(line['sepal_length']), \n",
    "                'sepal_width': float(line['sepal_width']), \n",
    "                'petal_length': float(line['petal_length']), \n",
    "                'petal_width': float(line['petal_width']), \n",
    "                'species': str(line['species']), \n",
    "            }\n",
    "\n",
    "# Use a generator expression to load values as a list of dictionaries. \n",
    "client.execute(\"INSERT INTO iris VALUES\", (line for line in row_reader()))\n",
    "client.execute(\"SELECT count(*) FROM iris\")"
   ]
  },
  {
   "cell_type": "markdown",
   "metadata": {},
   "source": [
    "That was painful. We dislike pain. A better approach to non-toy CSV files is to use Pandas, which has a very good method for reading CSV that automatically coerces types. This is much simpler! "
   ]
  },
  {
   "cell_type": "code",
   "execution_count": null,
   "metadata": {},
   "outputs": [],
   "source": [
    "client.execute(\"TRUNCATE TABLE iris\")\n",
    "\n",
    "import pandas as pd\n",
    "df = pd.read_csv('iris_with_names.csv')\n",
    "\n",
    "client.execute(\"INSERT INTO iris VALUES\", [tuple(x) for x in df.values])\n",
    "client.execute(\"SELECT count(*) FROM iris\")"
   ]
  },
  {
   "cell_type": "markdown",
   "metadata": {},
   "source": [
    "The next few queries show examples of select statements. "
   ]
  },
  {
   "cell_type": "code",
   "execution_count": null,
   "metadata": {},
   "outputs": [],
   "source": [
    "result = client.execute('SELECT COUNT(*), species FROM iris '\n",
    "                        'WHERE petal_length > 3.4 '\n",
    "                        'GROUP BY species ORDER BY species')\n",
    "print(result)"
   ]
  },
  {
   "cell_type": "code",
   "execution_count": null,
   "metadata": {},
   "outputs": [],
   "source": [
    "result = client.execute('SELECT COUNT(*), species FROM iris '\n",
    "                        'WHERE petal_length > %(max_len)s '\n",
    "                        'GROUP BY species ORDER BY species', \n",
    "                        {'max_len': 3.4})\n",
    "print(result)"
   ]
  },
  {
   "cell_type": "markdown",
   "metadata": {},
   "source": [
    "Show how to get the column names for results. Note that we also get the column types, which is convenient for conversions. "
   ]
  },
  {
   "cell_type": "code",
   "execution_count": null,
   "metadata": {},
   "outputs": [],
   "source": [
    "result, columns = client.execute('SELECT COUNT(*), species FROM iris '\n",
    "                                 'WHERE petal_length > %(max_len)s '\n",
    "                                 'GROUP BY species ORDER BY species', \n",
    "                                 {'max_len': 3.4},\n",
    "                                 with_column_types=True)\n",
    "print(result)\n",
    "print(columns)"
   ]
  },
  {
   "cell_type": "markdown",
   "metadata": {},
   "source": [
    "This final example shows how to put a result set into a pandas data frame.  We'll use the column names so that the DataFrame has correct labels."
   ]
  },
  {
   "cell_type": "code",
   "execution_count": null,
   "metadata": {
    "scrolled": true
   },
   "outputs": [],
   "source": [
    "import pandas\n",
    "result, columns = client.execute('SELECT * FROM iris WHERE species = %(species)s LIMIT 5', \n",
    "                                 {'species': \"Iris-setosa\"}, with_column_types=True)\n",
    "df = pandas.DataFrame(result, columns=[tuple[0] for tuple in columns])\n",
    "df.tail()"
   ]
  },
  {
   "cell_type": "markdown",
   "metadata": {},
   "source": [
    "Since we're using pandas and may like to put this data into graphs, etc., we need to ensure the data types are correct.  Let's describe the data set to ensure that the columns with numbers really appear as numbers.  The following should show metrics for length and width values but nothing for species, which is a string. "
   ]
  },
  {
   "cell_type": "code",
   "execution_count": null,
   "metadata": {},
   "outputs": [],
   "source": [
    "df.describe()"
   ]
  },
  {
   "cell_type": "code",
   "execution_count": null,
   "metadata": {},
   "outputs": [],
   "source": []
  }
 ],
 "metadata": {
  "kernelspec": {
   "display_name": "Python 3",
   "language": "python",
   "name": "python3"
  },
  "language_info": {
   "codemirror_mode": {
    "name": "ipython",
    "version": 3
   },
   "file_extension": ".py",
   "mimetype": "text/x-python",
   "name": "python",
   "nbconvert_exporter": "python",
   "pygments_lexer": "ipython3",
   "version": "3.7.1"
  }
 },
 "nbformat": 4,
 "nbformat_minor": 2
}
