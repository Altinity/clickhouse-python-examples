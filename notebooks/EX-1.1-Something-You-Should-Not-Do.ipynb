{
 "cells": [
  {
   "cell_type": "markdown",
   "metadata": {},
   "source": [
    "# Something You Should Not Do\n",
    "\n",
    "This notebook has samples that were included in the [Altinity blog article that introduces the clickhouse-driver client library](https://www.altinity.com/blog/clickhouse-and-python-getting-to-know-the-clickhouse-driver-client).\n",
    "\n",
    "_WARNING_: The final example hangs.  It must be cancelled manually. "
   ]
  },
  {
   "cell_type": "markdown",
   "metadata": {},
   "source": [
    "Load the clickhouse driver and connect to a local server. "
   ]
  },
  {
   "cell_type": "code",
   "execution_count": null,
   "metadata": {},
   "outputs": [],
   "source": [
    "from clickhouse_driver import Client\n",
    "client = Client('localhost')"
   ]
  },
  {
   "cell_type": "markdown",
   "metadata": {},
   "source": [
    "Create the iris table, dropping any previously existing table of the same name. "
   ]
  },
  {
   "cell_type": "code",
   "execution_count": null,
   "metadata": {},
   "outputs": [],
   "source": [
    "client.execute('DROP TABLE IF EXISTS iris')\n",
    "client.execute('CREATE TABLE iris ('\n",
    "               'sepal_length Float64, sepal_width Float64, '\n",
    "               'petal_length Float64, petal_width Float64, '\n",
    "               'species String) ENGINE = MergeTree '\n",
    "               ' PARTITION BY species ORDER BY (species)')"
   ]
  },
  {
   "cell_type": "markdown",
   "metadata": {},
   "source": [
    "If you try to insert values using a single string INSERT command that works with clickhouse-client the results will be disappointing.  This command will hang.  Once you see it hang, press the STOP button in your Jupyter environment.  "
   ]
  },
  {
   "cell_type": "code",
   "execution_count": null,
   "metadata": {},
   "outputs": [],
   "source": [
    "# Don’t do this.\n",
    "try:\n",
    "    client.execute(\n",
    "        \"INSERT INTO iris (sepal_length, sepal_width, petal_length, petal_width, species) \" \n",
    "        \"VALUES (5.1, 3.7, 1.5, 0.4, 'Iris-setosa'), (4.6, 3.6, 1.0, 0.2, 'Iris-setosa')\"\n",
    "    )\n",
    "except:\n",
    "    print(\"The command failed as expected\")"
   ]
  },
  {
   "cell_type": "markdown",
   "metadata": {},
   "source": [
    "You have to put insert data in a separate array.  Python cannot translate this the way clickhouse-client does.  (It creates the array transparently.)"
   ]
  },
  {
   "cell_type": "code",
   "execution_count": null,
   "metadata": {},
   "outputs": [],
   "source": []
  }
 ],
 "metadata": {
  "kernelspec": {
   "display_name": "Python 3",
   "language": "python",
   "name": "python3"
  },
  "language_info": {
   "codemirror_mode": {
    "name": "ipython",
    "version": 3
   },
   "file_extension": ".py",
   "mimetype": "text/x-python",
   "name": "python",
   "nbconvert_exporter": "python",
   "pygments_lexer": "ipython3",
   "version": "3.7.1"
  }
 },
 "nbformat": 4,
 "nbformat_minor": 2
}
