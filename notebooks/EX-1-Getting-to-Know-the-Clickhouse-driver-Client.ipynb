{
 "cells": [
  {
   "cell_type": "markdown",
   "metadata": {},
   "source": [
    "# Getting to know the ClickHouse-driver Client\n",
    "\n",
    "This notebook has samples that were included in the [Altinity blog article that introduces the clickhouse-driver client library](https://www.altinity.com/blog/clickhouse-and-python-getting-to-know-the-clickhouse-driver-client).\n",
    "\n",
    "_WARNING_: If you run the whole notebook it will hang.  You must run the samples one by one as one of them is designed to hang and must be cancelled manually. "
   ]
  },
  {
   "cell_type": "markdown",
   "metadata": {},
   "source": [
    "It's easy to load the clickhouse driver. The `Client` class is the main client interface. "
   ]
  },
  {
   "cell_type": "code",
   "execution_count": 1,
   "metadata": {},
   "outputs": [],
   "source": [
    "from clickhouse_driver import Client"
   ]
  },
  {
   "cell_type": "markdown",
   "metadata": {},
   "source": [
    "If you are running against an unencrypted local server setting up a connection is as simple as the following. Instantiating a client does not actually connect to ClickHouse.  It just sets up the data structure used to connect later on when your code does something. "
   ]
  },
  {
   "cell_type": "code",
   "execution_count": 2,
   "metadata": {},
   "outputs": [],
   "source": [
    "client = Client('localhost')"
   ]
  },
  {
   "cell_type": "markdown",
   "metadata": {},
   "source": [
    "Servers with sensitive data should be encrypted with a user/password and encrypted communications.  The following command shows how to connect to a server with self-signed certificate using an explicit database name. "
   ]
  },
  {
   "cell_type": "code",
   "execution_count": 3,
   "metadata": {},
   "outputs": [],
   "source": [
    "client = Client('localhost', \n",
    "                user='python', \n",
    "                password='secret', \n",
    "                secure=True, \n",
    "                verify=False, \n",
    "                database='default',\n",
    "                compression=True)"
   ]
  },
  {
   "cell_type": "markdown",
   "metadata": {},
   "source": [
    "The Python driver uses the Client.execute() method to issue select commands.  Results are returned as a list of tuples.  Let's send a very simple query and take apart the results to see values and types. \n",
    "\n",
    "*NOTE*: If you get an error about an unknown timezone, ensure your server has the timezone set properly.  "
   ]
  },
  {
   "cell_type": "code",
   "execution_count": 4,
   "metadata": {
    "scrolled": false
   },
   "outputs": [
    {
     "name": "stdout",
     "output_type": "stream",
     "text": [
      "RESULT: <class 'list'>: [(datetime.datetime(2019, 2, 24, 8, 53, 18), '19.3.4')]\n",
      " ROW: <class 'tuple'>: (datetime.datetime(2019, 2, 24, 8, 53, 18), '19.3.4')\n",
      "  COLUMN: <class 'datetime.datetime'>: 2019-02-24 08:53:18\n",
      "  COLUMN: <class 'str'>: 19.3.4\n"
     ]
    }
   ],
   "source": [
    "result = client.execute('SELECT now(), version()')\n",
    "print(\"RESULT: {0}: {1}\".format(type(result), result))\n",
    "for t in result:\n",
    "    print(\" ROW: {0}: {1}\".format(type(t), t))\n",
    "    for v in t:\n",
    "        print(\"  COLUMN: {0}: {1}\".format(type(v), v))"
   ]
  },
  {
   "cell_type": "markdown",
   "metadata": {},
   "source": [
    "Create the iris table, dropping any previously existing table of the same name. "
   ]
  },
  {
   "cell_type": "code",
   "execution_count": 5,
   "metadata": {},
   "outputs": [
    {
     "name": "stdout",
     "output_type": "stream",
     "text": [
      "[]\n",
      "[]\n"
     ]
    }
   ],
   "source": [
    "r1 = client.execute('DROP TABLE IF EXISTS iris')\n",
    "print(r1)\n",
    "r2 = client.execute('CREATE TABLE iris ('\n",
    "                    'sepal_length Decimal32(2), sepal_width Decimal32(2), '\n",
    "                    'petal_length Decimal32(2), petal_width Decimal32(2), '\n",
    "                    'species String) ENGINE = MergeTree '\n",
    "                    ' PARTITION BY species ORDER BY (species)')\n",
    "print(r2)"
   ]
  },
  {
   "cell_type": "markdown",
   "metadata": {},
   "source": [
    "Add some data to the table.  Note that the values are given in a separate array of tuples. "
   ]
  },
  {
   "cell_type": "code",
   "execution_count": 6,
   "metadata": {},
   "outputs": [
    {
     "name": "stdout",
     "output_type": "stream",
     "text": [
      "[(Decimal('5.1'), Decimal('3.7'), Decimal('1.5'), Decimal('0.4'), 'Iris-setosa'), (Decimal('4.6'), Decimal('3.6'), Decimal('1'), Decimal('0.2'), 'Iris-setosa')]\n"
     ]
    }
   ],
   "source": [
    "client.execute(\n",
    "    'INSERT INTO iris (sepal_length, sepal_width, petal_length, petal_width, species) VALUES',\n",
    "    [(5.1, 3.7, 1.5, 0.4, 'Iris-setosa'), (4.6, 3.6, 1.0, 0.2, 'Iris-setosa')]\n",
    ")\n",
    "print(client.execute(\"SELECT * FROM iris\"))"
   ]
  },
  {
   "cell_type": "markdown",
   "metadata": {},
   "source": [
    "If you try to insert values using a single string INSERT command that works with clickhouse-client the results will be disappointing.  This command will hang.  Once you see it hang, press the STOP button in your Jupyter environment.  "
   ]
  },
  {
   "cell_type": "code",
   "execution_count": 7,
   "metadata": {},
   "outputs": [
    {
     "name": "stdout",
     "output_type": "stream",
     "text": [
      "The command failed as expected\n"
     ]
    }
   ],
   "source": [
    "# Don’t do this.\n",
    "try:\n",
    "    client.execute(\n",
    "        \"INSERT INTO iris (sepal_length, sepal_width, petal_length, petal_width, species) \" \n",
    "        \"VALUES (5.1, 3.7, 1.5, 0.4, 'Iris-setosa'), (4.6, 3.6, 1.0, 0.2, 'Iris-setosa')\"\n",
    "    )\n",
    "except:\n",
    "    print(\"The command failed as expected\")\n",
    "\n",
    "# This breaks the client connection so we'll need to restore it. \n",
    "client = Client('localhost')"
   ]
  },
  {
   "cell_type": "markdown",
   "metadata": {},
   "source": [
    "Here is an example of how to insert CSV.  We read the values line by line using csv.reader() running inside the generator function row_reader().  This results in a tuple for each line.  "
   ]
  },
  {
   "cell_type": "code",
   "execution_count": 8,
   "metadata": {},
   "outputs": [
    {
     "name": "stdout",
     "output_type": "stream",
     "text": [
      "2019-02-24 00:53:36.798925\n",
      "2019-02-24 00:53:36.819348\n"
     ]
    },
    {
     "data": {
      "text/plain": [
       "[(152,)]"
      ]
     },
     "execution_count": 8,
     "metadata": {},
     "output_type": "execute_result"
    }
   ],
   "source": [
    "import datetime\n",
    "import csv\n",
    "\n",
    "# Create a generator to fetch parsed rows.\n",
    "def row_reader():\n",
    "    with open('iris.csv') as iris_csv:\n",
    "        for line in csv.reader(iris_csv):\n",
    "            yield line\n",
    "\n",
    "# Use a list comprehension to load values as a list of tuples. \n",
    "print(datetime.datetime.now())\n",
    "client.execute(\"INSERT INTO iris VALUES\", \n",
    "               (line for line in row_reader()))\n",
    "print(datetime.datetime.now())\n",
    "client.execute(\"SELECT count(*) FROM iris\")"
   ]
  },
  {
   "cell_type": "code",
   "execution_count": 9,
   "metadata": {
    "scrolled": true
   },
   "outputs": [
    {
     "name": "stdout",
     "output_type": "stream",
     "text": [
      "2019-02-24 00:53:49.901042\n",
      "2019-02-24 00:53:49.919261\n"
     ]
    },
    {
     "data": {
      "text/plain": [
       "[(150,)]"
      ]
     },
     "execution_count": 9,
     "metadata": {},
     "output_type": "execute_result"
    }
   ],
   "source": [
    "client.execute(\"TRUNCATE TABLE iris\")\n",
    "\n",
    "import datetime\n",
    "import csv\n",
    "\n",
    "# Create a generator to fetch parsed rows. CSV must have variable names in header row.\n",
    "def row_reader():\n",
    "    with open('iris_with_names.csv') as iris_csv:\n",
    "        # Use DictReader to get values as a dictionary with column names.\n",
    "        for line in csv.DictReader(iris_csv):\n",
    "            yield {\n",
    "                'sepal_length': float(line['sepal_length']), \n",
    "                'sepal_width': float(line['sepal_width']), \n",
    "                'petal_length': float(line['petal_length']), \n",
    "                'petal_width': float(line['petal_width']), \n",
    "                'species': str(line['species']), \n",
    "            }\n",
    "\n",
    "# Use a generator expression to load values as a list of dictionaries. \n",
    "print(datetime.datetime.now())\n",
    "client.execute(\"INSERT INTO iris VALUES\", (line for line in row_reader()))\n",
    "print(datetime.datetime.now())\n",
    "client.execute(\"SELECT count(*) FROM iris\")"
   ]
  },
  {
   "cell_type": "markdown",
   "metadata": {},
   "source": [
    "The next few queries show examples of select statements. "
   ]
  },
  {
   "cell_type": "code",
   "execution_count": 10,
   "metadata": {},
   "outputs": [
    {
     "name": "stdout",
     "output_type": "stream",
     "text": [
      "[(47, 'Iris-versicolor'), (50, 'Iris-virginica')]\n"
     ]
    }
   ],
   "source": [
    "result = client.execute('SELECT COUNT(*), species FROM iris '\n",
    "                        'WHERE petal_length > toDecimal32(3.4, 2) '\n",
    "                        'GROUP BY species ORDER BY species')\n",
    "print(result)"
   ]
  },
  {
   "cell_type": "code",
   "execution_count": 11,
   "metadata": {},
   "outputs": [
    {
     "name": "stdout",
     "output_type": "stream",
     "text": [
      "[(47, 'Iris-versicolor'), (50, 'Iris-virginica')]\n"
     ]
    }
   ],
   "source": [
    "result = client.execute('SELECT COUNT(*), species FROM iris '\n",
    "                        'WHERE petal_length > toDecimal32(%(max_len)s, 2) '\n",
    "                        'GROUP BY species ORDER BY species', \n",
    "                        {'max_len': 3.4})\n",
    "print(result)"
   ]
  },
  {
   "cell_type": "markdown",
   "metadata": {},
   "source": [
    "Show how to get the column names for results. Note that we also get the column types, which is convenient for conversions. "
   ]
  },
  {
   "cell_type": "code",
   "execution_count": 12,
   "metadata": {},
   "outputs": [
    {
     "name": "stdout",
     "output_type": "stream",
     "text": [
      "[(50, 'Iris-setosa'), (50, 'Iris-versicolor'), (50, 'Iris-virginica')]\n",
      "[('COUNT()', 'UInt64'), ('species', 'String')]\n"
     ]
    }
   ],
   "source": [
    "result, columns = client.execute('SELECT COUNT(*), species FROM iris '\n",
    "                                 'WHERE petal_length > toDecimal32(%(max_len)s, 2) '\n",
    "                                 'GROUP BY species ORDER BY species', \n",
    "                                 {'max_len': \"a, 2) AND 1=2 AND petal_length < toxDecimal32(3.4\"},\n",
    "                                 with_column_types=True)\n",
    "print(result)\n",
    "print(columns)"
   ]
  },
  {
   "cell_type": "markdown",
   "metadata": {},
   "source": [
    "This final example shows how to put a result set into a pandas data frame.  We'll use the column names so that the DataFrame has correct labels."
   ]
  },
  {
   "cell_type": "code",
   "execution_count": 13,
   "metadata": {
    "scrolled": true
   },
   "outputs": [
    {
     "data": {
      "text/html": [
       "<div>\n",
       "<style scoped>\n",
       "    .dataframe tbody tr th:only-of-type {\n",
       "        vertical-align: middle;\n",
       "    }\n",
       "\n",
       "    .dataframe tbody tr th {\n",
       "        vertical-align: top;\n",
       "    }\n",
       "\n",
       "    .dataframe thead th {\n",
       "        text-align: right;\n",
       "    }\n",
       "</style>\n",
       "<table border=\"1\" class=\"dataframe\">\n",
       "  <thead>\n",
       "    <tr style=\"text-align: right;\">\n",
       "      <th></th>\n",
       "      <th>sepal_length</th>\n",
       "      <th>sepal_width</th>\n",
       "      <th>petal_length</th>\n",
       "      <th>petal_width</th>\n",
       "      <th>species</th>\n",
       "    </tr>\n",
       "  </thead>\n",
       "  <tbody>\n",
       "    <tr>\n",
       "      <th>0</th>\n",
       "      <td>5.1</td>\n",
       "      <td>3.5</td>\n",
       "      <td>1.4</td>\n",
       "      <td>0.2</td>\n",
       "      <td>Iris-setosa</td>\n",
       "    </tr>\n",
       "    <tr>\n",
       "      <th>1</th>\n",
       "      <td>4.9</td>\n",
       "      <td>3</td>\n",
       "      <td>1.4</td>\n",
       "      <td>0.2</td>\n",
       "      <td>Iris-setosa</td>\n",
       "    </tr>\n",
       "    <tr>\n",
       "      <th>2</th>\n",
       "      <td>4.7</td>\n",
       "      <td>3.2</td>\n",
       "      <td>1.3</td>\n",
       "      <td>0.2</td>\n",
       "      <td>Iris-setosa</td>\n",
       "    </tr>\n",
       "    <tr>\n",
       "      <th>3</th>\n",
       "      <td>4.6</td>\n",
       "      <td>3.1</td>\n",
       "      <td>1.5</td>\n",
       "      <td>0.2</td>\n",
       "      <td>Iris-setosa</td>\n",
       "    </tr>\n",
       "    <tr>\n",
       "      <th>4</th>\n",
       "      <td>5</td>\n",
       "      <td>3.6</td>\n",
       "      <td>1.4</td>\n",
       "      <td>0.2</td>\n",
       "      <td>Iris-setosa</td>\n",
       "    </tr>\n",
       "  </tbody>\n",
       "</table>\n",
       "</div>"
      ],
      "text/plain": [
       "  sepal_length sepal_width petal_length petal_width      species\n",
       "0          5.1         3.5          1.4         0.2  Iris-setosa\n",
       "1          4.9           3          1.4         0.2  Iris-setosa\n",
       "2          4.7         3.2          1.3         0.2  Iris-setosa\n",
       "3          4.6         3.1          1.5         0.2  Iris-setosa\n",
       "4            5         3.6          1.4         0.2  Iris-setosa"
      ]
     },
     "execution_count": 13,
     "metadata": {},
     "output_type": "execute_result"
    }
   ],
   "source": [
    "import pandas\n",
    "result, columns = client.execute('SELECT * FROM iris WHERE species = %(species)s LIMIT 5', \n",
    "                                 {'species': \"Iris-setosa\"}, with_column_types=True)\n",
    "pandas.DataFrame(result, columns=[tuple[0] for tuple in columns])"
   ]
  },
  {
   "cell_type": "code",
   "execution_count": null,
   "metadata": {},
   "outputs": [],
   "source": []
  }
 ],
 "metadata": {
  "kernelspec": {
   "display_name": "Python 3",
   "language": "python",
   "name": "python3"
  },
  "language_info": {
   "codemirror_mode": {
    "name": "ipython",
    "version": 3
   },
   "file_extension": ".py",
   "mimetype": "text/x-python",
   "name": "python",
   "nbconvert_exporter": "python",
   "pygments_lexer": "ipython3",
   "version": "3.7.1"
  }
 },
 "nbformat": 4,
 "nbformat_minor": 2
}
