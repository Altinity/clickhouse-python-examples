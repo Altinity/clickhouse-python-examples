{
 "cells": [
  {
   "cell_type": "markdown",
   "metadata": {},
   "source": [
    "# Graphing Airline Ontime Data\n",
    "\n",
    "This notebook shows how to create a time-series graph from airline ontime data, which can be downloaded from the [US Bureau of Transportation Statistics](https://www.transtats.bts.gov/tables.asp?DB_ID=120).  See https://github.com/Altinity/altinity-datasets for tools to help with loading. "
   ]
  },
  {
   "cell_type": "markdown",
   "metadata": {},
   "source": [
    "First import SQLAlchemy and activate the %sql function.  This just needs to be done once. "
   ]
  },
  {
   "cell_type": "code",
   "execution_count": 1,
   "metadata": {
    "scrolled": true
   },
   "outputs": [],
   "source": [
    "from sqlalchemy import create_engine\n",
    "%load_ext sql"
   ]
  },
  {
   "cell_type": "markdown",
   "metadata": {},
   "source": [
    "Run a query using %%sql.  This needs to go in a separate cell. "
   ]
  },
  {
   "cell_type": "code",
   "execution_count": 2,
   "metadata": {},
   "outputs": [
    {
     "name": "stdout",
     "output_type": "stream",
     "text": [
      "Done.\n"
     ]
    },
    {
     "data": {
      "text/html": [
       "<table>\n",
       "    <tr>\n",
       "        <th>t</th>\n",
       "        <th>cancelled</th>\n",
       "        <th>delayed</th>\n",
       "    </tr>\n",
       "    <tr>\n",
       "        <td>1987</td>\n",
       "        <td>0.015005801074227831</td>\n",
       "        <td>0.15847681018671683</td>\n",
       "    </tr>\n",
       "    <tr>\n",
       "        <td>1988</td>\n",
       "        <td>0.009642843961357115</td>\n",
       "        <td>0.13082207633230913</td>\n",
       "    </tr>\n",
       "    <tr>\n",
       "        <td>1989</td>\n",
       "        <td>0.014711774974212489</td>\n",
       "        <td>0.16047806077917956</td>\n",
       "    </tr>\n",
       "    <tr>\n",
       "        <td>1990</td>\n",
       "        <td>0.009952393266188481</td>\n",
       "        <td>0.1329419891468106</td>\n",
       "    </tr>\n",
       "    <tr>\n",
       "        <td>1991</td>\n",
       "        <td>0.008569163420771431</td>\n",
       "        <td>0.11384922960256455</td>\n",
       "    </tr>\n",
       "    <tr>\n",
       "        <td>1992</td>\n",
       "        <td>0.010375956593639985</td>\n",
       "        <td>0.11081983528787506</td>\n",
       "    </tr>\n",
       "    <tr>\n",
       "        <td>1993</td>\n",
       "        <td>0.011802581243944139</td>\n",
       "        <td>0.118570334568517</td>\n",
       "    </tr>\n",
       "    <tr>\n",
       "        <td>1994</td>\n",
       "        <td>0.012884050495284986</td>\n",
       "        <td>0.12803356262335794</td>\n",
       "    </tr>\n",
       "    <tr>\n",
       "        <td>1995</td>\n",
       "        <td>0.01725126632234837</td>\n",
       "        <td>0.1554094981919066</td>\n",
       "    </tr>\n",
       "    <tr>\n",
       "        <td>1996</td>\n",
       "        <td>0.024016518737073715</td>\n",
       "        <td>0.18197890389412671</td>\n",
       "    </tr>\n",
       "    <tr>\n",
       "        <td>1997</td>\n",
       "        <td>0.018064640825685447</td>\n",
       "        <td>0.15648458390237854</td>\n",
       "    </tr>\n",
       "    <tr>\n",
       "        <td>1998</td>\n",
       "        <td>0.02683685932845917</td>\n",
       "        <td>0.16164161522946127</td>\n",
       "    </tr>\n",
       "    <tr>\n",
       "        <td>1999</td>\n",
       "        <td>0.027915021371649622</td>\n",
       "        <td>0.1695536664662283</td>\n",
       "    </tr>\n",
       "    <tr>\n",
       "        <td>2000</td>\n",
       "        <td>0.03299110494775074</td>\n",
       "        <td>0.19912962183842575</td>\n",
       "    </tr>\n",
       "    <tr>\n",
       "        <td>2001</td>\n",
       "        <td>0.03874103938147854</td>\n",
       "        <td>0.1598262670540804</td>\n",
       "    </tr>\n",
       "    <tr>\n",
       "        <td>2002</td>\n",
       "        <td>0.012357913775176383</td>\n",
       "        <td>0.1360878665255013</td>\n",
       "    </tr>\n",
       "    <tr>\n",
       "        <td>2003</td>\n",
       "        <td>0.01595893603961728</td>\n",
       "        <td>0.13144318872073027</td>\n",
       "    </tr>\n",
       "    <tr>\n",
       "        <td>2004</td>\n",
       "        <td>0.01792006755249836</td>\n",
       "        <td>0.1665800285302703</td>\n",
       "    </tr>\n",
       "    <tr>\n",
       "        <td>2005</td>\n",
       "        <td>0.019069045573072995</td>\n",
       "        <td>0.18150869494248564</td>\n",
       "    </tr>\n",
       "    <tr>\n",
       "        <td>2006</td>\n",
       "        <td>0.01707299519653113</td>\n",
       "        <td>0.1994948978720294</td>\n",
       "    </tr>\n",
       "    <tr>\n",
       "        <td>2007</td>\n",
       "        <td>0.021569298626590076</td>\n",
       "        <td>0.210983416444704</td>\n",
       "    </tr>\n",
       "    <tr>\n",
       "        <td>2008</td>\n",
       "        <td>0.01960590185693421</td>\n",
       "        <td>0.18941510695282526</td>\n",
       "    </tr>\n",
       "    <tr>\n",
       "        <td>2009</td>\n",
       "        <td>0.013856286970265655</td>\n",
       "        <td>0.16836124295283075</td>\n",
       "    </tr>\n",
       "    <tr>\n",
       "        <td>2010</td>\n",
       "        <td>0.017558596223913456</td>\n",
       "        <td>0.1726871000944634</td>\n",
       "    </tr>\n",
       "    <tr>\n",
       "        <td>2011</td>\n",
       "        <td>0.019058774771452625</td>\n",
       "        <td>0.17160785179846255</td>\n",
       "    </tr>\n",
       "    <tr>\n",
       "        <td>2012</td>\n",
       "        <td>0.01293506290716285</td>\n",
       "        <td>0.16289138398382616</td>\n",
       "    </tr>\n",
       "    <tr>\n",
       "        <td>2013</td>\n",
       "        <td>0.015073753250264308</td>\n",
       "        <td>0.19332121513177994</td>\n",
       "    </tr>\n",
       "    <tr>\n",
       "        <td>2014</td>\n",
       "        <td>0.021819265264799836</td>\n",
       "        <td>0.2053970481171983</td>\n",
       "    </tr>\n",
       "    <tr>\n",
       "        <td>2015</td>\n",
       "        <td>0.015446430612129514</td>\n",
       "        <td>0.18173906901762288</td>\n",
       "    </tr>\n",
       "    <tr>\n",
       "        <td>2016</td>\n",
       "        <td>0.011723924809947491</td>\n",
       "        <td>0.16974030814976632</td>\n",
       "    </tr>\n",
       "    <tr>\n",
       "        <td>2017</td>\n",
       "        <td>0.01399881896870509</td>\n",
       "        <td>0.19478701373546048</td>\n",
       "    </tr>\n",
       "    <tr>\n",
       "        <td>2018</td>\n",
       "        <td>0.010669114159862703</td>\n",
       "        <td>0.17753310427890504</td>\n",
       "    </tr>\n",
       "</table>"
      ],
      "text/plain": [
       "[(1987, 0.015005801074227831, 0.15847681018671683),\n",
       " (1988, 0.009642843961357115, 0.13082207633230913),\n",
       " (1989, 0.014711774974212489, 0.16047806077917956),\n",
       " (1990, 0.009952393266188481, 0.1329419891468106),\n",
       " (1991, 0.008569163420771431, 0.11384922960256455),\n",
       " (1992, 0.010375956593639985, 0.11081983528787506),\n",
       " (1993, 0.011802581243944139, 0.118570334568517),\n",
       " (1994, 0.012884050495284986, 0.12803356262335794),\n",
       " (1995, 0.01725126632234837, 0.1554094981919066),\n",
       " (1996, 0.024016518737073715, 0.18197890389412671),\n",
       " (1997, 0.018064640825685447, 0.15648458390237854),\n",
       " (1998, 0.02683685932845917, 0.16164161522946127),\n",
       " (1999, 0.027915021371649622, 0.1695536664662283),\n",
       " (2000, 0.03299110494775074, 0.19912962183842575),\n",
       " (2001, 0.03874103938147854, 0.1598262670540804),\n",
       " (2002, 0.012357913775176383, 0.1360878665255013),\n",
       " (2003, 0.01595893603961728, 0.13144318872073027),\n",
       " (2004, 0.01792006755249836, 0.1665800285302703),\n",
       " (2005, 0.019069045573072995, 0.18150869494248564),\n",
       " (2006, 0.01707299519653113, 0.1994948978720294),\n",
       " (2007, 0.021569298626590076, 0.210983416444704),\n",
       " (2008, 0.01960590185693421, 0.18941510695282526),\n",
       " (2009, 0.013856286970265655, 0.16836124295283075),\n",
       " (2010, 0.017558596223913456, 0.1726871000944634),\n",
       " (2011, 0.019058774771452625, 0.17160785179846255),\n",
       " (2012, 0.01293506290716285, 0.16289138398382616),\n",
       " (2013, 0.015073753250264308, 0.19332121513177994),\n",
       " (2014, 0.021819265264799836, 0.2053970481171983),\n",
       " (2015, 0.015446430612129514, 0.18173906901762288),\n",
       " (2016, 0.011723924809947491, 0.16974030814976632),\n",
       " (2017, 0.01399881896870509, 0.19478701373546048),\n",
       " (2018, 0.010669114159862703, 0.17753310427890504)]"
      ]
     },
     "execution_count": 2,
     "metadata": {},
     "output_type": "execute_result"
    }
   ],
   "source": [
    "%%sql clickhouse://default:@localhost/airline\n",
    "SELECT toYear(FlightDate) t, \n",
    "    sum(Cancelled)/count(*) cancelled, \n",
    "    sum(DepDel15)/count(*) delayed\n",
    "FROM airline.ontime GROUP BY t ORDER BY t"
   ]
  },
  {
   "cell_type": "markdown",
   "metadata": {},
   "source": [
    "Turn the result into a nice dataframe and prove it has some data in it. "
   ]
  },
  {
   "cell_type": "code",
   "execution_count": 3,
   "metadata": {},
   "outputs": [
    {
     "data": {
      "text/html": [
       "<div>\n",
       "<style scoped>\n",
       "    .dataframe tbody tr th:only-of-type {\n",
       "        vertical-align: middle;\n",
       "    }\n",
       "\n",
       "    .dataframe tbody tr th {\n",
       "        vertical-align: top;\n",
       "    }\n",
       "\n",
       "    .dataframe thead th {\n",
       "        text-align: right;\n",
       "    }\n",
       "</style>\n",
       "<table border=\"1\" class=\"dataframe\">\n",
       "  <thead>\n",
       "    <tr style=\"text-align: right;\">\n",
       "      <th></th>\n",
       "      <th>t</th>\n",
       "      <th>cancelled</th>\n",
       "      <th>delayed</th>\n",
       "    </tr>\n",
       "  </thead>\n",
       "  <tbody>\n",
       "    <tr>\n",
       "      <th>27</th>\n",
       "      <td>2014</td>\n",
       "      <td>0.021819</td>\n",
       "      <td>0.205397</td>\n",
       "    </tr>\n",
       "    <tr>\n",
       "      <th>28</th>\n",
       "      <td>2015</td>\n",
       "      <td>0.015446</td>\n",
       "      <td>0.181739</td>\n",
       "    </tr>\n",
       "    <tr>\n",
       "      <th>29</th>\n",
       "      <td>2016</td>\n",
       "      <td>0.011724</td>\n",
       "      <td>0.169740</td>\n",
       "    </tr>\n",
       "    <tr>\n",
       "      <th>30</th>\n",
       "      <td>2017</td>\n",
       "      <td>0.013999</td>\n",
       "      <td>0.194787</td>\n",
       "    </tr>\n",
       "    <tr>\n",
       "      <th>31</th>\n",
       "      <td>2018</td>\n",
       "      <td>0.010669</td>\n",
       "      <td>0.177533</td>\n",
       "    </tr>\n",
       "  </tbody>\n",
       "</table>\n",
       "</div>"
      ],
      "text/plain": [
       "       t  cancelled   delayed\n",
       "27  2014   0.021819  0.205397\n",
       "28  2015   0.015446  0.181739\n",
       "29  2016   0.011724  0.169740\n",
       "30  2017   0.013999  0.194787\n",
       "31  2018   0.010669  0.177533"
      ]
     },
     "execution_count": 3,
     "metadata": {},
     "output_type": "execute_result"
    }
   ],
   "source": [
    "result = _\n",
    "df = result.DataFrame()\n",
    "df.tail()"
   ]
  },
  {
   "cell_type": "markdown",
   "metadata": {},
   "source": [
    "Time to make a quick graph using matplotlib.  I'm not the greatest at this but once you have a data frame everything is possible. "
   ]
  },
  {
   "cell_type": "code",
   "execution_count": 4,
   "metadata": {},
   "outputs": [
    {
     "data": {
      "image/png": "[encoded data removed]",
      "text/plain": [
       "<Figure size 432x288 with 1 Axes>"
      ]
     },
     "metadata": {
      "needs_background": "light"
     },
     "output_type": "display_data"
    }
   ],
   "source": [
    "import matplotlib.pyplot as plt\n",
    "%matplotlib inline\n",
    "\n",
    "plt.plot('t', 'cancelled', \n",
    "         data=df, linestyle='--', \n",
    "         marker='o', label='Cancelled')\n",
    "plt.plot('t', 'delayed', \n",
    "         data=df, linestyle='--', \n",
    "         marker='o', label='Delayed')\n",
    "plt.xlabel('Year')\n",
    "plt.ylabel('Percentage')\n",
    "plt.legend(loc='upper left')\n",
    "plt.title('Fetch data the easy way')\n",
    "plt.show()"
   ]
  },
  {
   "cell_type": "markdown",
   "metadata": {},
   "source": [
    "The %sql magic function is great but we can also do the same thing using the clickhouse-driver client library and direct API calls. "
   ]
  },
  {
   "cell_type": "code",
   "execution_count": 5,
   "metadata": {},
   "outputs": [
    {
     "data": {
      "text/html": [
       "<div>\n",
       "<style scoped>\n",
       "    .dataframe tbody tr th:only-of-type {\n",
       "        vertical-align: middle;\n",
       "    }\n",
       "\n",
       "    .dataframe tbody tr th {\n",
       "        vertical-align: top;\n",
       "    }\n",
       "\n",
       "    .dataframe thead th {\n",
       "        text-align: right;\n",
       "    }\n",
       "</style>\n",
       "<table border=\"1\" class=\"dataframe\">\n",
       "  <thead>\n",
       "    <tr style=\"text-align: right;\">\n",
       "      <th></th>\n",
       "      <th>t</th>\n",
       "      <th>cancelled</th>\n",
       "      <th>delayed</th>\n",
       "    </tr>\n",
       "  </thead>\n",
       "  <tbody>\n",
       "    <tr>\n",
       "      <th>27</th>\n",
       "      <td>2014</td>\n",
       "      <td>0.021819</td>\n",
       "      <td>0.205397</td>\n",
       "    </tr>\n",
       "    <tr>\n",
       "      <th>28</th>\n",
       "      <td>2015</td>\n",
       "      <td>0.015446</td>\n",
       "      <td>0.181739</td>\n",
       "    </tr>\n",
       "    <tr>\n",
       "      <th>29</th>\n",
       "      <td>2016</td>\n",
       "      <td>0.011724</td>\n",
       "      <td>0.169740</td>\n",
       "    </tr>\n",
       "    <tr>\n",
       "      <th>30</th>\n",
       "      <td>2017</td>\n",
       "      <td>0.013999</td>\n",
       "      <td>0.194787</td>\n",
       "    </tr>\n",
       "    <tr>\n",
       "      <th>31</th>\n",
       "      <td>2018</td>\n",
       "      <td>0.010669</td>\n",
       "      <td>0.177533</td>\n",
       "    </tr>\n",
       "  </tbody>\n",
       "</table>\n",
       "</div>"
      ],
      "text/plain": [
       "       t  cancelled   delayed\n",
       "27  2014   0.021819  0.205397\n",
       "28  2015   0.015446  0.181739\n",
       "29  2016   0.011724  0.169740\n",
       "30  2017   0.013999  0.194787\n",
       "31  2018   0.010669  0.177533"
      ]
     },
     "execution_count": 5,
     "metadata": {},
     "output_type": "execute_result"
    }
   ],
   "source": [
    "import pandas\n",
    "from clickhouse_driver import Client\n",
    "\n",
    "client = Client('localhost', database='airline')\n",
    "result, columns = client.execute(\n",
    "    'SELECT toYear(FlightDate) t,'\n",
    "    'sum(Cancelled)/count(*) cancelled,'\n",
    "    'sum(DepDel15)/count(*) delayed '\n",
    "    'FROM airline.ontime GROUP BY t ORDER BY t', \n",
    "    with_column_types=True)\n",
    "\n",
    "df2 = pandas.DataFrame(result, columns=[tuple[0] for tuple in columns])\n",
    "df2.tail()"
   ]
  },
  {
   "cell_type": "markdown",
   "metadata": {},
   "source": [
    "The graph looks just the same, so we change the title to tell them apart. "
   ]
  },
  {
   "cell_type": "code",
   "execution_count": 6,
   "metadata": {},
   "outputs": [
    {
     "data": {
      "image/png": "[encoded data removed]",
      "text/plain": [
       "<Figure size 432x288 with 1 Axes>"
      ]
     },
     "metadata": {
      "needs_background": "light"
     },
     "output_type": "display_data"
    }
   ],
   "source": [
    "import matplotlib.pyplot as plt\n",
    "%matplotlib inline\n",
    "\n",
    "plt.plot('t', 'cancelled', data=df2, \n",
    "         linestyle='--', marker='o', label='Cancelled')\n",
    "plt.plot('t', 'delayed', data=df2, \n",
    "         linestyle='--', marker='o', label='Delayed')\n",
    "plt.xlabel('Year')\n",
    "plt.ylabel('Percentage')\n",
    "plt.legend(loc='upper left')\n",
    "plt.title('Fetch data the hard way')\n",
    "plt.show()"
   ]
  },
  {
   "cell_type": "markdown",
   "metadata": {},
   "source": [
    "That's all folks!"
   ]
  },
  {
   "cell_type": "code",
   "execution_count": null,
   "metadata": {},
   "outputs": [],
   "source": []
  }
 ],
 "metadata": {
  "kernelspec": {
   "display_name": "Python 3",
   "language": "python",
   "name": "python3"
  },
  "language_info": {
   "codemirror_mode": {
    "name": "ipython",
    "version": 3
   },
   "file_extension": ".py",
   "mimetype": "text/x-python",
   "name": "python",
   "nbconvert_exporter": "python",
   "pygments_lexer": "ipython3",
   "version": "3.7.1"
  }
 },
 "nbformat": 4,
 "nbformat_minor": 2
}
